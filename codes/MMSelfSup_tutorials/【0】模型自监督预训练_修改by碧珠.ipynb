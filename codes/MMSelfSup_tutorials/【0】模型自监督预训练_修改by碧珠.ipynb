{
 "cells": [
  {
   "cell_type": "markdown",
   "metadata": {},
   "source": [
    "<img src=\"img/mmselfsup_logo.png\">"
   ]
  },
  {
   "cell_type": "markdown",
   "metadata": {
    "id": "q7CaTJFjW8vL"
   },
   "source": [
    "# 模型自监督预训练教程"
   ]
  },
  {
   "cell_type": "markdown",
   "metadata": {},
   "source": [
    "**MMSelfSup Repo**：[https://github.com/open-mmlab/mmselfsup](https://github.com/open-mmlab/mmselfsup)\n",
    "\n",
    "**MMSelfSup 官方文档链接**：[https://mmselfsup.readthedocs.io/en/latest](https://mmselfsup.readthedocs.io/en/latest)\n",
    "\n",
    "**作者**：OpenMMLab"
   ]
  },
  {
   "cell_type": "markdown",
   "metadata": {},
   "source": [
    "## 0. 自监督预训练任务介绍：Masked Autoencoders (MAE)"
   ]
  },
  {
   "cell_type": "markdown",
   "metadata": {},
   "source": [
    "**MAE 基本思想**：将输入图像分块 `patch`，随机遮挡住一部分图像块。将未被遮挡住的图像块和对应的位置信息一同输入到模型中，让模型恢复被遮挡的图像块内容。"
   ]
  },
  {
   "cell_type": "markdown",
   "metadata": {},
   "source": [
    "<img src=\"img/MAE.png\">"
   ]
  },
  {
   "cell_type": "code",
   "execution_count": null,
   "metadata": {},
   "outputs": [],
   "source": []
  },
  {
   "cell_type": "markdown",
   "metadata": {
    "id": "0mTM6rS1rH5E"
   },
   "source": [
    "## 1. 环境配置"
   ]
  },
  {
   "cell_type": "markdown",
   "metadata": {},
   "source": [
    "### 1.1 查看 Python、PyTorch 和 Torchvision 的版本"
   ]
  },
  {
   "cell_type": "code",
   "execution_count": null,
   "metadata": {
    "colab": {
     "base_uri": "https://localhost:8080/"
    },
    "executionInfo": {
     "elapsed": 9,
     "status": "ok",
     "timestamp": 1652227265560,
     "user": {
      "displayName": "qin ren",
      "userId": "07205769677379266243"
     },
     "user_tz": -480
    },
    "id": "vAJOmFIheEYw",
    "outputId": "af8058ad-8b05-4725-baff-659be42f769b"
   },
   "outputs": [],
   "source": [
    "# Check nvcc version\n",
    "!nvcc -V"
   ]
  },
  {
   "cell_type": "code",
   "execution_count": null,
   "metadata": {
    "colab": {
     "base_uri": "https://localhost:8080/"
    },
    "executionInfo": {
     "elapsed": 5,
     "status": "ok",
     "timestamp": 1652227265560,
     "user": {
      "displayName": "qin ren",
      "userId": "07205769677379266243"
     },
     "user_tz": -480
    },
    "id": "wUN3X6pkiBkr",
    "outputId": "27439c00-01db-4f1b-bdce-9286f944eece"
   },
   "outputs": [],
   "source": [
    "# Check GCC version\n",
    "!gcc --version"
   ]
  },
  {
   "cell_type": "code",
   "execution_count": null,
   "metadata": {
    "colab": {
     "base_uri": "https://localhost:8080/"
    },
    "executionInfo": {
     "elapsed": 2791,
     "status": "ok",
     "timestamp": 1652227268348,
     "user": {
      "displayName": "qin ren",
      "userId": "07205769677379266243"
     },
     "user_tz": -480
    },
    "id": "FeTcrMawduNz",
    "outputId": "993481bf-8adf-45c9-9956-9b9cda1a6d5d"
   },
   "outputs": [],
   "source": [
    "# Check PyTorch installation\n",
    "import torch, torchvision\n",
    "print(torch.__version__)\n",
    "print(torch.cuda.is_available())"
   ]
  },
  {
   "cell_type": "markdown",
   "metadata": {
    "id": "LNPnoUevfCPS"
   },
   "source": [
    "### 1.2 安装 MMSelfSup 的依赖库：MMCV"
   ]
  },
  {
   "cell_type": "code",
   "execution_count": null,
   "metadata": {},
   "outputs": [],
   "source": [
    "!pip install openmim"
   ]
  },
  {
   "cell_type": "code",
   "execution_count": null,
   "metadata": {},
   "outputs": [],
   "source": [
    "!mim install mmcv-full"
   ]
  },
  {
   "cell_type": "markdown",
   "metadata": {
    "id": "7qAzB2G9XFX5"
   },
   "source": [
    "### 1.3  安装 MMSelfSup"
   ]
  },
  {
   "cell_type": "code",
   "execution_count": null,
   "metadata": {
    "colab": {
     "base_uri": "https://localhost:8080/"
    },
    "executionInfo": {
     "elapsed": 8,
     "status": "ok",
     "timestamp": 1652241030446,
     "user": {
      "displayName": "qin ren",
      "userId": "07205769677379266243"
     },
     "user_tz": -480
    },
    "id": "CdpfDvN9tTsK",
    "outputId": "de8ea276-e162-44da-b26e-99261e6dbca5"
   },
   "outputs": [],
   "source": [
    "%cd /content"
   ]
  },
  {
   "cell_type": "code",
   "execution_count": null,
   "metadata": {
    "colab": {
     "base_uri": "https://localhost:8080/"
    },
    "executionInfo": {
     "elapsed": 798,
     "status": "ok",
     "timestamp": 1652241157860,
     "user": {
      "displayName": "qin ren",
      "userId": "07205769677379266243"
     },
     "user_tz": -480
    },
    "id": "BXznZKezlMEp",
    "outputId": "294885ec-733d-4fd6-b0b4-a4b2f9fbe9ed"
   },
   "outputs": [],
   "source": [
    "!git clone https://github.com/open-mmlab/mmselfsup.git\n",
    "%cd /content/mmselfsup"
   ]
  },
  {
   "cell_type": "code",
   "execution_count": null,
   "metadata": {
    "colab": {
     "base_uri": "https://localhost:8080/"
    },
    "executionInfo": {
     "elapsed": 409,
     "status": "ok",
     "timestamp": 1652241205001,
     "user": {
      "displayName": "qin ren",
      "userId": "07205769677379266243"
     },
     "user_tz": -480
    },
    "id": "qRXwIBk8Osvk",
    "outputId": "64380c42-9f38-4b0c-b38a-ecb9f4136a1b"
   },
   "outputs": [],
   "source": [
    "!git checkout v0.9.0"
   ]
  },
  {
   "cell_type": "code",
   "execution_count": null,
   "metadata": {
    "colab": {
     "base_uri": "https://localhost:8080/"
    },
    "executionInfo": {
     "elapsed": 4824,
     "status": "ok",
     "timestamp": 1652227291776,
     "user": {
      "displayName": "qin ren",
      "userId": "07205769677379266243"
     },
     "user_tz": -480
    },
    "id": "VB0IitFnlMEq",
    "outputId": "8295f45e-acba-4b02-e325-4c5fddcce55a"
   },
   "outputs": [],
   "source": [
    "# Install MMSelfSup from source\n",
    "!pip install -e . "
   ]
  },
  {
   "cell_type": "markdown",
   "metadata": {
    "id": "fWV3zNh0XgJ3"
   },
   "source": [
    "### 1.4 检查安装是否正确"
   ]
  },
  {
   "cell_type": "code",
   "execution_count": null,
   "metadata": {
    "colab": {
     "base_uri": "https://localhost:8080/"
    },
    "executionInfo": {
     "elapsed": 14,
     "status": "ok",
     "timestamp": 1652227305653,
     "user": {
      "displayName": "qin ren",
      "userId": "07205769677379266243"
     },
     "user_tz": -480
    },
    "id": "pYGlfFEzbn5S",
    "outputId": "da71f3b0-8d80-42b8-84ba-e2b2952455e9"
   },
   "outputs": [],
   "source": [
    "import mmselfsup\n",
    "print(mmselfsup.__version__)"
   ]
  },
  {
   "cell_type": "code",
   "execution_count": null,
   "metadata": {},
   "outputs": [],
   "source": []
  },
  {
   "cell_type": "markdown",
   "metadata": {
    "id": "rDdTwMhVr-Ot"
   },
   "source": [
    "## 2. 准备数据集"
   ]
  },
  {
   "cell_type": "markdown",
   "metadata": {},
   "source": [
    "### 2.0 数据集介绍"
   ]
  },
  {
   "cell_type": "markdown",
   "metadata": {
    "id": "RGaM0eJMsL2y"
   },
   "source": [
    "本教程将在 `Tiny ImageNet` 数据集上训练 Masked Autoencoders (MAE) 模型。\n",
    "\n",
    "Tiny ImageNet 数据集是 ImageNet 的一个子集。\n",
    "\n",
    "该数据集包含 200 个类别，每个类别有 500 张训练图片、50 张验证图片和 50 张测试图片，共 120,000 张图像。每张图片均为 64×64 彩色图片。\n",
    "\n",
    "数据集官方下载地址：http://cs231n.stanford.edu/tiny-imagenet-200.zip"
   ]
  },
  {
   "cell_type": "markdown",
   "metadata": {
    "id": "z4MRBzSSsHmN"
   },
   "source": [
    "### 2.1 下载数据集"
   ]
  },
  {
   "cell_type": "markdown",
   "metadata": {
    "id": "hn7fNiAjsMuL"
   },
   "source": [
    "使用 GNU [Wget](https://www.gnu.org/software/wget/) 工具从斯坦福官方网站下载：http://cs231n.stanford.edu/tiny-imagenet-200.zip"
   ]
  },
  {
   "cell_type": "code",
   "execution_count": null,
   "metadata": {
    "colab": {
     "base_uri": "https://localhost:8080/"
    },
    "executionInfo": {
     "elapsed": 12,
     "status": "ok",
     "timestamp": 1652227305654,
     "user": {
      "displayName": "qin ren",
      "userId": "07205769677379266243"
     },
     "user_tz": -480
    },
    "id": "pu5KYeDXsaMX",
    "outputId": "d092dadb-f588-47f5-8de0-8698b5b8e83b"
   },
   "outputs": [],
   "source": [
    "!pwd"
   ]
  },
  {
   "cell_type": "code",
   "execution_count": null,
   "metadata": {
    "colab": {
     "base_uri": "https://localhost:8080/"
    },
    "executionInfo": {
     "elapsed": 17709,
     "status": "ok",
     "timestamp": 1652227323355,
     "user": {
      "displayName": "qin ren",
      "userId": "07205769677379266243"
     },
     "user_tz": -480
    },
    "id": "HF4EQi8hsO9Z",
    "outputId": "b86b4945-77eb-4314-be3f-e7d6adfbeaf6"
   },
   "outputs": [],
   "source": [
    "!mkdir data\n",
    "%cd data\n",
    "!wget http://cs231n.stanford.edu/tiny-imagenet-200.zip"
   ]
  },
  {
   "cell_type": "markdown",
   "metadata": {
    "id": "7QO-Pn7punH3"
   },
   "source": [
    "### 2.2 解压"
   ]
  },
  {
   "cell_type": "code",
   "execution_count": null,
   "metadata": {
    "id": "l8dwqxzEsXJs"
   },
   "outputs": [],
   "source": [
    "!unzip -q tiny-imagenet-200.zip"
   ]
  },
  {
   "cell_type": "code",
   "execution_count": null,
   "metadata": {
    "id": "ZVUQ2srEudNz"
   },
   "outputs": [],
   "source": [
    "!rm -rf tiny-imagenet-200.zip"
   ]
  },
  {
   "cell_type": "markdown",
   "metadata": {
    "id": "yzFcEcPPur4z"
   },
   "source": [
    "### 2.3 查看目录"
   ]
  },
  {
   "cell_type": "code",
   "execution_count": null,
   "metadata": {
    "colab": {
     "base_uri": "https://localhost:8080/"
    },
    "executionInfo": {
     "elapsed": 5757,
     "status": "ok",
     "timestamp": 1652227337308,
     "user": {
      "displayName": "qin ren",
      "userId": "07205769677379266243"
     },
     "user_tz": -480
    },
    "id": "bDA5AYU7usW-",
    "outputId": "9e09a36a-4172-496b-94de-fbe2c1e73f42"
   },
   "outputs": [],
   "source": [
    "# Check data directory\n",
    "!apt-get install tree\n",
    "!tree -d /content/mmselfsup/data"
   ]
  },
  {
   "cell_type": "markdown",
   "metadata": {},
   "source": [
    "### 2.4 准备标注文件"
   ]
  },
  {
   "cell_type": "markdown",
   "metadata": {
    "id": "hn7fNiAjsMuL"
   },
   "source": [
    "为了减少大家重写 `加载数据集` 代码的负担，我们整理好了标注文件，复制到数据集根目录 `mmselfsup/data/tiny-imagenet-200` 下即可。"
   ]
  },
  {
   "cell_type": "code",
   "execution_count": null,
   "metadata": {
    "id": "53uHttA_cvOl"
   },
   "outputs": [],
   "source": [
    "%cd /content\n",
    "!git clone https://github.com/BizhuWu/MMSelfSup_tutorials\n",
    "!cp /content/MMSelfSup_tutorials/anno_files/train.txt /content/mmselfsup/data/tiny-imagenet-200/train.txt"
   ]
  },
  {
   "cell_type": "code",
   "execution_count": null,
   "metadata": {},
   "outputs": [],
   "source": []
  },
  {
   "cell_type": "markdown",
   "metadata": {
    "id": "CpBCjcfEuzyz"
   },
   "source": [
    "## 3. 编写模型自监督预训练的配置文件"
   ]
  },
  {
   "cell_type": "code",
   "execution_count": null,
   "metadata": {
    "colab": {
     "base_uri": "https://localhost:8080/"
    },
    "executionInfo": {
     "elapsed": 328,
     "status": "ok",
     "timestamp": 1651927015877,
     "user": {
      "displayName": "qin ren",
      "userId": "07205769677379266243"
     },
     "user_tz": -480
    },
    "id": "lNqMCQofdik6",
    "outputId": "49e7d60e-d397-4062-bb4a-4ae33d99c369"
   },
   "outputs": [],
   "source": [
    "!pwd\n",
    "%cd /content/mmselfsup"
   ]
  },
  {
   "cell_type": "markdown",
   "metadata": {},
   "source": [
    "1. 新建一个名为 `mae_vit-base-p16_1xb32-coslr-1e_tinyin200.py` 的配置文件。（配置文件命名要求 & 含义可参考[这里](https://mmsegmentation.readthedocs.io/zh_CN/latest/tutorials/config.html#id3))\n",
    "\n",
    "\n",
    "\n",
    "2. 写训练配置文件的内容：\n",
    "    1. 继承 [mae_vit-base-p16_8xb512-coslr-400e_in1k.py](https://github.com/open-mmlab/mmselfsup/blob/master/configs/selfsup/mae/mae_vit-base-p16_8xb512-coslr-400e_in1k.py) 配置文件\n",
    "    2. 根据需求修改参数 samples_per_gpu（单个 GPU 的 Batch size）和 workers_per_gpu （单个 GPU 分配的数据加载线程数）\n",
    "    3. 修改数据集路径和数据标注文件路径\n",
    "    4. 根据 batch size 调整学习率（调整原则请参考：[这里](https://mmselfsup.readthedocs.io/zh_CN/latest/get_started.html#id2)）"
   ]
  },
  {
   "cell_type": "code",
   "execution_count": null,
   "metadata": {
    "colab": {
     "base_uri": "https://localhost:8080/"
    },
    "executionInfo": {
     "elapsed": 436,
     "status": "ok",
     "timestamp": 1651931297045,
     "user": {
      "displayName": "qin ren",
      "userId": "07205769677379266243"
     },
     "user_tz": -480
    },
    "id": "z6j0fZ7gu0Cf",
    "outputId": "6d5d622b-8f25-4b60-e0dd-0be93a40cd2c"
   },
   "outputs": [],
   "source": [
    "%%writefile /content/mmselfsup/configs/selfsup/mae/mae_vit-base-p16_1xb32-coslr-1e_tinyin200.py\n",
    "\n",
    "_base_ = 'mae_vit-base-p16_8xb512-coslr-400e_in1k.py'\n",
    "\n",
    "# dataset\n",
    "data = dict(\n",
    "    samples_per_gpu=32, \n",
    "    workers_per_gpu=2,\n",
    "    train=dict(\n",
    "        data_source=dict(\n",
    "            data_prefix='data/tiny-imagenet-200/train',\n",
    "            ann_file='data/tiny-imagenet-200/train.txt',\n",
    "        )\n",
    "    )\n",
    ")\n",
    "\n",
    "# optimizer\n",
    "optimizer = dict(\n",
    "    lr=1.5e-4 * 4096 / 256 * (32 / 512 * 8),\n",
    ")\n",
    "\n",
    "runner = dict(max_epochs=1)"
   ]
  },
  {
   "cell_type": "code",
   "execution_count": null,
   "metadata": {},
   "outputs": [],
   "source": []
  },
  {
   "cell_type": "markdown",
   "metadata": {
    "id": "LU_MWqrIvgdA"
   },
   "source": [
    "## 4. 模型自监督预训练"
   ]
  },
  {
   "cell_type": "markdown",
   "metadata": {},
   "source": [
    "+ 使用 `单张/多张 GPU` 训练\n",
    "```shell\n",
    "sh tools/dist_train.sh ${CONFIG_FILE} ${GPUS} --work-dir ${YOUR_WORK_DIR} [optional arguments]\n",
    "```\n",
    "**注意**：我们推荐使用分布式训练工具 `tools/dist_train.sh` 来启动训练任务（即使您只用一张 GPU 进行训练）。\n",
    "因为一些自监督预训练算法需要用多张 GPU 进行训练，为此 MMSelfSup 支持了多卡训练可能会用到的模块，如 `SyncBN` 等。如果算法在训练的过程中使用到了这些模块，但不使用分布式训练，就会报错。\n",
    "\n",
    "    其他可选参数 `optional arguments` 可参考[这里](https://mmselfsup.readthedocs.io/zh_CN/latest/get_started.html#id3)。"
   ]
  },
  {
   "cell_type": "code",
   "execution_count": null,
   "metadata": {
    "colab": {
     "base_uri": "https://localhost:8080/"
    },
    "executionInfo": {
     "elapsed": 1055,
     "status": "ok",
     "timestamp": 1651928965230,
     "user": {
      "displayName": "qin ren",
      "userId": "07205769677379266243"
     },
     "user_tz": -480
    },
    "id": "dLCNrOGjhuyf",
    "outputId": "4e694759-9046-44b1-ef73-96738a71a456"
   },
   "outputs": [],
   "source": [
    "!pwd"
   ]
  },
  {
   "cell_type": "code",
   "execution_count": null,
   "metadata": {
    "colab": {
     "base_uri": "https://localhost:8080/"
    },
    "executionInfo": {
     "elapsed": 2292700,
     "status": "ok",
     "timestamp": 1651931258275,
     "user": {
      "displayName": "qin ren",
      "userId": "07205769677379266243"
     },
     "user_tz": -480
    },
    "id": "Owc_V5DMvlPu",
    "outputId": "1c22c4ea-82aa-4786-d6fd-382cc47e7c72"
   },
   "outputs": [],
   "source": [
    "!bash tools/dist_train.sh \\\n",
    "configs/selfsup/mae/mae_vit-base-p16_1xb32-coslr-1e_tinyin200.py \\\n",
    "1 \\\n",
    "--work_dir work_dirs/selfsup/mae/mae_vit-base-p16_1xb32-coslr-1e_tinyin200/ "
   ]
  },
  {
   "cell_type": "code",
   "execution_count": null,
   "metadata": {},
   "outputs": [],
   "source": []
  },
  {
   "cell_type": "markdown",
   "metadata": {},
   "source": [
    "## 5. 自监督预训练效果可视化 demo"
   ]
  },
  {
   "cell_type": "code",
   "execution_count": null,
   "metadata": {},
   "outputs": [],
   "source": []
  },
  {
   "cell_type": "markdown",
   "metadata": {},
   "source": [
    "## 6. 自监督预训练模型 T-SNE 图片向量可视化"
   ]
  },
  {
   "cell_type": "code",
   "execution_count": null,
   "metadata": {},
   "outputs": [],
   "source": []
  }
 ],
 "metadata": {
  "accelerator": "GPU",
  "colab": {
   "collapsed_sections": [],
   "name": "【0】模型预训练.ipynb",
   "provenance": [],
   "toc_visible": true
  },
  "interpreter": {
   "hash": "916dbcbb3f70747c44a77c7bcd40155683ae19c65e1c03b4aa3499c5328201f1"
  },
  "kernelspec": {
   "display_name": "Python 3",
   "language": "python",
   "name": "python3"
  },
  "language_info": {
   "codemirror_mode": {
    "name": "ipython",
    "version": 3
   },
   "file_extension": ".py",
   "mimetype": "text/x-python",
   "name": "python",
   "nbconvert_exporter": "python",
   "pygments_lexer": "ipython3",
   "version": "3.6.7"
  }
 },
 "nbformat": 4,
 "nbformat_minor": 1
}
